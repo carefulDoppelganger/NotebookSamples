{
 "cells": [
  {
   "cell_type": "markdown",
   "metadata": {},
   "source": [
    "<h3> Load package"
   ]
  },
  {
   "cell_type": "code",
   "execution_count": 1,
   "metadata": {},
   "outputs": [],
   "source": [
    "import pandas as pd"
   ]
  },
  {
   "cell_type": "markdown",
   "metadata": {},
   "source": [
    "<h3> Import the data"
   ]
  },
  {
   "cell_type": "code",
   "execution_count": null,
   "metadata": {},
   "outputs": [],
   "source": [
    "dailypricedata = pd.read_csv('DailyPricesTechCompanies.csv') #used the data that hose pulled from alpha vantage\n",
    "dailypricedata #verification"
   ]
  },
  {
   "cell_type": "markdown",
   "metadata": {},
   "source": [
    "<h3> Data cleaning"
   ]
  },
  {
   "cell_type": "code",
   "execution_count": 8,
   "metadata": {},
   "outputs": [],
   "source": [
    "# Convert 'date' column to datetime\n",
    "dailypricedata['date'] = pd.to_datetime(dailypricedata['date'])"
   ]
  },
  {
   "cell_type": "code",
   "execution_count": 10,
   "metadata": {},
   "outputs": [],
   "source": [
    "# Rename columns and convert data types if necessary\n",
    "dailypricedata.rename(columns={\n",
    "    '1. open': 'Open',\n",
    "    '2. high': 'High',\n",
    "    '3. low': 'Low',\n",
    "    '4. close': 'Close',\n",
    "    '5. volume': 'Volume',\n",
    "    'date': 'Date'\n",
    "}, inplace=True)"
   ]
  },
  {
   "cell_type": "code",
   "execution_count": 11,
   "metadata": {},
   "outputs": [],
   "source": [
    "# Convert numerical columns to numeric types\n",
    "numeric_cols = ['Open', 'High', 'Low', 'Close','Volume']\n",
    "dailypricedata[numeric_cols] = dailypricedata[numeric_cols].apply(pd.to_numeric)\n",
    "\n",
    "#use the code bellow if you get an error in the preceding cell\n",
    "#apple_stock = apple_stock.drop(columns=['level_0', 'index'])    "
   ]
  },
  {
   "cell_type": "markdown",
   "metadata": {},
   "source": [
    "<h3> Verify if all went right"
   ]
  },
  {
   "cell_type": "code",
   "execution_count": 12,
   "metadata": {},
   "outputs": [
    {
     "data": {
      "text/html": [
       "<div>\n",
       "<style scoped>\n",
       "    .dataframe tbody tr th:only-of-type {\n",
       "        vertical-align: middle;\n",
       "    }\n",
       "\n",
       "    .dataframe tbody tr th {\n",
       "        vertical-align: top;\n",
       "    }\n",
       "\n",
       "    .dataframe thead th {\n",
       "        text-align: right;\n",
       "    }\n",
       "</style>\n",
       "<table border=\"1\" class=\"dataframe\">\n",
       "  <thead>\n",
       "    <tr style=\"text-align: right;\">\n",
       "      <th></th>\n",
       "      <th>Date</th>\n",
       "      <th>Open</th>\n",
       "      <th>High</th>\n",
       "      <th>Low</th>\n",
       "      <th>Close</th>\n",
       "      <th>Volume</th>\n",
       "      <th>TickerName</th>\n",
       "    </tr>\n",
       "  </thead>\n",
       "  <tbody>\n",
       "    <tr>\n",
       "      <th>0</th>\n",
       "      <td>2023-10-06</td>\n",
       "      <td>124.16</td>\n",
       "      <td>128.45</td>\n",
       "      <td>124.1300</td>\n",
       "      <td>127.96</td>\n",
       "      <td>46836698</td>\n",
       "      <td>AMZN</td>\n",
       "    </tr>\n",
       "    <tr>\n",
       "      <th>1</th>\n",
       "      <td>2023-10-05</td>\n",
       "      <td>126.71</td>\n",
       "      <td>126.73</td>\n",
       "      <td>124.3300</td>\n",
       "      <td>125.96</td>\n",
       "      <td>39660643</td>\n",
       "      <td>AMZN</td>\n",
       "    </tr>\n",
       "    <tr>\n",
       "      <th>2</th>\n",
       "      <td>2023-10-04</td>\n",
       "      <td>126.06</td>\n",
       "      <td>127.36</td>\n",
       "      <td>125.6800</td>\n",
       "      <td>127.00</td>\n",
       "      <td>44203870</td>\n",
       "      <td>AMZN</td>\n",
       "    </tr>\n",
       "    <tr>\n",
       "      <th>3</th>\n",
       "      <td>2023-10-03</td>\n",
       "      <td>128.06</td>\n",
       "      <td>128.52</td>\n",
       "      <td>124.2544</td>\n",
       "      <td>124.72</td>\n",
       "      <td>51564991</td>\n",
       "      <td>AMZN</td>\n",
       "    </tr>\n",
       "    <tr>\n",
       "      <th>4</th>\n",
       "      <td>2023-10-02</td>\n",
       "      <td>127.28</td>\n",
       "      <td>130.47</td>\n",
       "      <td>126.5400</td>\n",
       "      <td>129.46</td>\n",
       "      <td>48029744</td>\n",
       "      <td>AMZN</td>\n",
       "    </tr>\n",
       "  </tbody>\n",
       "</table>\n",
       "</div>"
      ],
      "text/plain": [
       "         Date    Open    High       Low   Close    Volume TickerName\n",
       "0  2023-10-06  124.16  128.45  124.1300  127.96  46836698       AMZN\n",
       "1  2023-10-05  126.71  126.73  124.3300  125.96  39660643       AMZN\n",
       "2  2023-10-04  126.06  127.36  125.6800  127.00  44203870       AMZN\n",
       "3  2023-10-03  128.06  128.52  124.2544  124.72  51564991       AMZN\n",
       "4  2023-10-02  127.28  130.47  126.5400  129.46  48029744       AMZN"
      ]
     },
     "execution_count": 12,
     "metadata": {},
     "output_type": "execute_result"
    }
   ],
   "source": [
    "dailypricedata.head()"
   ]
  }
 ],
 "metadata": {
  "kernelspec": {
   "display_name": "base",
   "language": "python",
   "name": "python3"
  },
  "language_info": {
   "codemirror_mode": {
    "name": "ipython",
    "version": 3
   },
   "file_extension": ".py",
   "mimetype": "text/x-python",
   "name": "python",
   "nbconvert_exporter": "python",
   "pygments_lexer": "ipython3",
   "version": "3.9.13"
  },
  "orig_nbformat": 4
 },
 "nbformat": 4,
 "nbformat_minor": 2
}
