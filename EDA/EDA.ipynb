{
 "cells": [
  {
   "cell_type": "markdown",
   "metadata": {},
   "source": [
    "### Load packages"
   ]
  },
  {
   "cell_type": "code",
   "execution_count": 61,
   "metadata": {},
   "outputs": [],
   "source": [
    "import pandas as pd\n",
    "import matplotlib.pyplot as plt\n",
    "import seaborn as sns\n",
    "from scipy.stats import norm\n",
    "from scipy import stats\n",
    "from sklearn.preprocessing import MinMaxScaler"
   ]
  },
  {
   "cell_type": "markdown",
   "metadata": {},
   "source": [
    "# EDA for sentiment score data of IPOs"
   ]
  },
  {
   "cell_type": "markdown",
   "metadata": {},
   "source": [
    "## Load the Dataset"
   ]
  },
  {
   "cell_type": "code",
   "execution_count": 3,
   "metadata": {},
   "outputs": [
    {
     "data": {
      "text/plain": [
       "(65189, 17)"
      ]
     },
     "execution_count": 3,
     "metadata": {},
     "output_type": "execute_result"
    }
   ],
   "source": [
    "sentiment_data = pd.read_csv('../Datasets/sentimentNewsTechCompanies.csv')"
   ]
  },
  {
   "cell_type": "code",
   "execution_count": 32,
   "metadata": {},
   "outputs": [
    {
     "data": {
      "text/html": [
       "<div>\n",
       "<style scoped>\n",
       "    .dataframe tbody tr th:only-of-type {\n",
       "        vertical-align: middle;\n",
       "    }\n",
       "\n",
       "    .dataframe tbody tr th {\n",
       "        vertical-align: top;\n",
       "    }\n",
       "\n",
       "    .dataframe thead th {\n",
       "        text-align: right;\n",
       "    }\n",
       "</style>\n",
       "<table border=\"1\" class=\"dataframe\">\n",
       "  <thead>\n",
       "    <tr style=\"text-align: right;\">\n",
       "      <th></th>\n",
       "      <th>title</th>\n",
       "      <th>url</th>\n",
       "      <th>time_published</th>\n",
       "      <th>summary</th>\n",
       "      <th>banner_image</th>\n",
       "      <th>source</th>\n",
       "      <th>category_within_source</th>\n",
       "      <th>source_domain</th>\n",
       "      <th>overall_sentiment_score</th>\n",
       "      <th>overall_sentiment_label</th>\n",
       "      <th>numberOfCompanies</th>\n",
       "      <th>companyName</th>\n",
       "      <th>companyRelevanceScore</th>\n",
       "      <th>companySentimentScore</th>\n",
       "      <th>companySentimentLabel</th>\n",
       "      <th>topic</th>\n",
       "      <th>topicRelevanceScore</th>\n",
       "    </tr>\n",
       "  </thead>\n",
       "  <tbody>\n",
       "    <tr>\n",
       "      <th>26031</th>\n",
       "      <td>The Investing Club's top 10 things to watch in...</td>\n",
       "      <td>https://www.cnbc.com/2023/10/16/the-investing-...</td>\n",
       "      <td>20231016T130953</td>\n",
       "      <td>Stocks edge up in premarket trading Monday ahe...</td>\n",
       "      <td>https://image.cnbcfm.com/api/v1/image/10730364...</td>\n",
       "      <td>CNBC</td>\n",
       "      <td>Top News</td>\n",
       "      <td>www.cnbc.com</td>\n",
       "      <td>0.177208</td>\n",
       "      <td>Somewhat-Bullish</td>\n",
       "      <td>14</td>\n",
       "      <td>HUM</td>\n",
       "      <td>0.114956</td>\n",
       "      <td>0.297882</td>\n",
       "      <td>Somewhat-Bullish</td>\n",
       "      <td>Technology</td>\n",
       "      <td>0.250000</td>\n",
       "    </tr>\n",
       "    <tr>\n",
       "      <th>33977</th>\n",
       "      <td>This $50 Billion Artificial Intelligence  ( AI...</td>\n",
       "      <td>https://www.fool.com/investing/2023/09/13/this...</td>\n",
       "      <td>20230913T220604</td>\n",
       "      <td>Arm Holdings is hoping to ride the acceleratin...</td>\n",
       "      <td>https://g.foolcdn.com/misc-assets/hp-sa-cumula...</td>\n",
       "      <td>Motley Fool</td>\n",
       "      <td>NaN</td>\n",
       "      <td>www.fool.com</td>\n",
       "      <td>0.141014</td>\n",
       "      <td>Neutral</td>\n",
       "      <td>6</td>\n",
       "      <td>NVDA</td>\n",
       "      <td>0.388879</td>\n",
       "      <td>0.247618</td>\n",
       "      <td>Somewhat-Bullish</td>\n",
       "      <td>IPO</td>\n",
       "      <td>0.769861</td>\n",
       "    </tr>\n",
       "    <tr>\n",
       "      <th>49647</th>\n",
       "      <td>ESG has lost its meaning. One advocate says le...</td>\n",
       "      <td>https://www.cnn.com/2023/10/03/investing/prema...</td>\n",
       "      <td>20231003T113500</td>\n",
       "      <td>ESG has lost its meaning. One advocate says le...</td>\n",
       "      <td>https://media.cnn.com/api/v1/images/stellar/pr...</td>\n",
       "      <td>CNN</td>\n",
       "      <td>Economy</td>\n",
       "      <td>www.cnn.com</td>\n",
       "      <td>0.091720</td>\n",
       "      <td>Neutral</td>\n",
       "      <td>7</td>\n",
       "      <td>FOX</td>\n",
       "      <td>0.029728</td>\n",
       "      <td>-0.104694</td>\n",
       "      <td>Neutral</td>\n",
       "      <td>Manufacturing</td>\n",
       "      <td>0.333333</td>\n",
       "    </tr>\n",
       "    <tr>\n",
       "      <th>61521</th>\n",
       "      <td>Sunoco  ( NYSE:SUN )  Downgraded by StockNews....</td>\n",
       "      <td>https://www.defenseworld.net/2023/10/03/sunoco...</td>\n",
       "      <td>20231003T074444</td>\n",
       "      <td>StockNews.com lowered shares of Sunoco ( NYSE:...</td>\n",
       "      <td>https://www.americanbankingnews.com/wp-content...</td>\n",
       "      <td>Stocknews.com</td>\n",
       "      <td>NaN</td>\n",
       "      <td>www.defenseworld.net</td>\n",
       "      <td>0.238227</td>\n",
       "      <td>Somewhat-Bullish</td>\n",
       "      <td>7</td>\n",
       "      <td>BCS</td>\n",
       "      <td>0.057907</td>\n",
       "      <td>-0.014001</td>\n",
       "      <td>Neutral</td>\n",
       "      <td>Financial Markets</td>\n",
       "      <td>1.000000</td>\n",
       "    </tr>\n",
       "    <tr>\n",
       "      <th>36614</th>\n",
       "      <td>Trudge Into Weekend: Firm Dollar, Yields, And ...</td>\n",
       "      <td>https://www.benzinga.com/markets/23/09/3436450...</td>\n",
       "      <td>20230908T151240</td>\n",
       "      <td>( Friday market open ) This short week is star...</td>\n",
       "      <td>https://cdn.benzinga.com/files/images/story/20...</td>\n",
       "      <td>Benzinga</td>\n",
       "      <td>Markets</td>\n",
       "      <td>www.benzinga.com</td>\n",
       "      <td>-0.007203</td>\n",
       "      <td>Neutral</td>\n",
       "      <td>12</td>\n",
       "      <td>AAPL</td>\n",
       "      <td>0.175699</td>\n",
       "      <td>-0.048209</td>\n",
       "      <td>Neutral</td>\n",
       "      <td>Manufacturing</td>\n",
       "      <td>0.250000</td>\n",
       "    </tr>\n",
       "    <tr>\n",
       "      <th>59548</th>\n",
       "      <td>We're adding to one of our chip stocks in an o...</td>\n",
       "      <td>https://www.cnbc.com/2023/10/03/were-adding-to...</td>\n",
       "      <td>20231003T190017</td>\n",
       "      <td>We picked up more shares of a consumer company...</td>\n",
       "      <td>https://image.cnbcfm.com/api/v1/image/10719703...</td>\n",
       "      <td>CNBC</td>\n",
       "      <td>Top News</td>\n",
       "      <td>www.cnbc.com</td>\n",
       "      <td>0.258909</td>\n",
       "      <td>Somewhat-Bullish</td>\n",
       "      <td>4</td>\n",
       "      <td>AVGO</td>\n",
       "      <td>0.756417</td>\n",
       "      <td>0.412105</td>\n",
       "      <td>Bullish</td>\n",
       "      <td>Financial Markets</td>\n",
       "      <td>0.818451</td>\n",
       "    </tr>\n",
       "    <tr>\n",
       "      <th>36312</th>\n",
       "      <td>Oil Climbs, iPhone Faces China Ban, UAW Strike...</td>\n",
       "      <td>https://www.benzinga.com/markets/equities/23/0...</td>\n",
       "      <td>20230908T201541</td>\n",
       "      <td>The week began with a surge in oil prices, as ...</td>\n",
       "      <td>https://cdn.benzinga.com/files/images/story/20...</td>\n",
       "      <td>Benzinga</td>\n",
       "      <td>Markets</td>\n",
       "      <td>www.benzinga.com</td>\n",
       "      <td>0.046653</td>\n",
       "      <td>Neutral</td>\n",
       "      <td>14</td>\n",
       "      <td>MPC</td>\n",
       "      <td>0.117774</td>\n",
       "      <td>0.220103</td>\n",
       "      <td>Somewhat-Bullish</td>\n",
       "      <td>Energy &amp; Transportation</td>\n",
       "      <td>0.200000</td>\n",
       "    </tr>\n",
       "    <tr>\n",
       "      <th>16048</th>\n",
       "      <td>Can Markets Resume Northward Journey in Septem...</td>\n",
       "      <td>https://www.zacks.com/stock/news/2144765/can-m...</td>\n",
       "      <td>20230905T131600</td>\n",
       "      <td>We have narrowed our search to five growth sto...</td>\n",
       "      <td>https://staticx-tuner.zacks.com/images/article...</td>\n",
       "      <td>Zacks Commentary</td>\n",
       "      <td>NaN</td>\n",
       "      <td>www.zacks.com</td>\n",
       "      <td>0.240917</td>\n",
       "      <td>Somewhat-Bullish</td>\n",
       "      <td>6</td>\n",
       "      <td>RCL</td>\n",
       "      <td>0.145804</td>\n",
       "      <td>0.273788</td>\n",
       "      <td>Somewhat-Bullish</td>\n",
       "      <td>Technology</td>\n",
       "      <td>0.250000</td>\n",
       "    </tr>\n",
       "    <tr>\n",
       "      <th>20315</th>\n",
       "      <td>3 Top Stocks To Buy if There Is a Market Pullback</td>\n",
       "      <td>https://www.fool.com/investing/2023/08/20/3-to...</td>\n",
       "      <td>20230820T170000</td>\n",
       "      <td>These companies proved their reliance after la...</td>\n",
       "      <td>https://g.foolcdn.com/misc-assets/hp-sa-cumula...</td>\n",
       "      <td>Motley Fool</td>\n",
       "      <td>NaN</td>\n",
       "      <td>www.fool.com</td>\n",
       "      <td>0.230081</td>\n",
       "      <td>Somewhat-Bullish</td>\n",
       "      <td>6</td>\n",
       "      <td>AAPL</td>\n",
       "      <td>0.211191</td>\n",
       "      <td>0.012276</td>\n",
       "      <td>Neutral</td>\n",
       "      <td>Technology</td>\n",
       "      <td>0.500000</td>\n",
       "    </tr>\n",
       "    <tr>\n",
       "      <th>54412</th>\n",
       "      <td>This fund manager had a rough quarter but is s...</td>\n",
       "      <td>https://www.marketwatch.com/story/from-the-mgm...</td>\n",
       "      <td>20231020T120500</td>\n",
       "      <td>One fund manager just went through a bruising ...</td>\n",
       "      <td>https://images.mktw.net/im-872414?width=700&amp;he...</td>\n",
       "      <td>MarketWatch</td>\n",
       "      <td>Top Stories</td>\n",
       "      <td>www.marketwatch.com</td>\n",
       "      <td>0.026690</td>\n",
       "      <td>Neutral</td>\n",
       "      <td>9</td>\n",
       "      <td>VSAT</td>\n",
       "      <td>0.127908</td>\n",
       "      <td>-0.094868</td>\n",
       "      <td>Neutral</td>\n",
       "      <td>Finance</td>\n",
       "      <td>0.333333</td>\n",
       "    </tr>\n",
       "  </tbody>\n",
       "</table>\n",
       "</div>"
      ],
      "text/plain": [
       "                                                   title  \\\n",
       "26031  The Investing Club's top 10 things to watch in...   \n",
       "33977  This $50 Billion Artificial Intelligence  ( AI...   \n",
       "49647  ESG has lost its meaning. One advocate says le...   \n",
       "61521  Sunoco  ( NYSE:SUN )  Downgraded by StockNews....   \n",
       "36614  Trudge Into Weekend: Firm Dollar, Yields, And ...   \n",
       "59548  We're adding to one of our chip stocks in an o...   \n",
       "36312  Oil Climbs, iPhone Faces China Ban, UAW Strike...   \n",
       "16048  Can Markets Resume Northward Journey in Septem...   \n",
       "20315  3 Top Stocks To Buy if There Is a Market Pullback   \n",
       "54412  This fund manager had a rough quarter but is s...   \n",
       "\n",
       "                                                     url   time_published  \\\n",
       "26031  https://www.cnbc.com/2023/10/16/the-investing-...  20231016T130953   \n",
       "33977  https://www.fool.com/investing/2023/09/13/this...  20230913T220604   \n",
       "49647  https://www.cnn.com/2023/10/03/investing/prema...  20231003T113500   \n",
       "61521  https://www.defenseworld.net/2023/10/03/sunoco...  20231003T074444   \n",
       "36614  https://www.benzinga.com/markets/23/09/3436450...  20230908T151240   \n",
       "59548  https://www.cnbc.com/2023/10/03/were-adding-to...  20231003T190017   \n",
       "36312  https://www.benzinga.com/markets/equities/23/0...  20230908T201541   \n",
       "16048  https://www.zacks.com/stock/news/2144765/can-m...  20230905T131600   \n",
       "20315  https://www.fool.com/investing/2023/08/20/3-to...  20230820T170000   \n",
       "54412  https://www.marketwatch.com/story/from-the-mgm...  20231020T120500   \n",
       "\n",
       "                                                 summary  \\\n",
       "26031  Stocks edge up in premarket trading Monday ahe...   \n",
       "33977  Arm Holdings is hoping to ride the acceleratin...   \n",
       "49647  ESG has lost its meaning. One advocate says le...   \n",
       "61521  StockNews.com lowered shares of Sunoco ( NYSE:...   \n",
       "36614  ( Friday market open ) This short week is star...   \n",
       "59548  We picked up more shares of a consumer company...   \n",
       "36312  The week began with a surge in oil prices, as ...   \n",
       "16048  We have narrowed our search to five growth sto...   \n",
       "20315  These companies proved their reliance after la...   \n",
       "54412  One fund manager just went through a bruising ...   \n",
       "\n",
       "                                            banner_image            source  \\\n",
       "26031  https://image.cnbcfm.com/api/v1/image/10730364...              CNBC   \n",
       "33977  https://g.foolcdn.com/misc-assets/hp-sa-cumula...       Motley Fool   \n",
       "49647  https://media.cnn.com/api/v1/images/stellar/pr...               CNN   \n",
       "61521  https://www.americanbankingnews.com/wp-content...     Stocknews.com   \n",
       "36614  https://cdn.benzinga.com/files/images/story/20...          Benzinga   \n",
       "59548  https://image.cnbcfm.com/api/v1/image/10719703...              CNBC   \n",
       "36312  https://cdn.benzinga.com/files/images/story/20...          Benzinga   \n",
       "16048  https://staticx-tuner.zacks.com/images/article...  Zacks Commentary   \n",
       "20315  https://g.foolcdn.com/misc-assets/hp-sa-cumula...       Motley Fool   \n",
       "54412  https://images.mktw.net/im-872414?width=700&he...       MarketWatch   \n",
       "\n",
       "      category_within_source         source_domain  overall_sentiment_score  \\\n",
       "26031               Top News          www.cnbc.com                 0.177208   \n",
       "33977                    NaN          www.fool.com                 0.141014   \n",
       "49647                Economy           www.cnn.com                 0.091720   \n",
       "61521                    NaN  www.defenseworld.net                 0.238227   \n",
       "36614                Markets      www.benzinga.com                -0.007203   \n",
       "59548               Top News          www.cnbc.com                 0.258909   \n",
       "36312                Markets      www.benzinga.com                 0.046653   \n",
       "16048                    NaN         www.zacks.com                 0.240917   \n",
       "20315                    NaN          www.fool.com                 0.230081   \n",
       "54412            Top Stories   www.marketwatch.com                 0.026690   \n",
       "\n",
       "      overall_sentiment_label  numberOfCompanies companyName  \\\n",
       "26031        Somewhat-Bullish                 14         HUM   \n",
       "33977                 Neutral                  6        NVDA   \n",
       "49647                 Neutral                  7         FOX   \n",
       "61521        Somewhat-Bullish                  7         BCS   \n",
       "36614                 Neutral                 12        AAPL   \n",
       "59548        Somewhat-Bullish                  4        AVGO   \n",
       "36312                 Neutral                 14         MPC   \n",
       "16048        Somewhat-Bullish                  6         RCL   \n",
       "20315        Somewhat-Bullish                  6        AAPL   \n",
       "54412                 Neutral                  9        VSAT   \n",
       "\n",
       "       companyRelevanceScore  companySentimentScore companySentimentLabel  \\\n",
       "26031               0.114956               0.297882      Somewhat-Bullish   \n",
       "33977               0.388879               0.247618      Somewhat-Bullish   \n",
       "49647               0.029728              -0.104694               Neutral   \n",
       "61521               0.057907              -0.014001               Neutral   \n",
       "36614               0.175699              -0.048209               Neutral   \n",
       "59548               0.756417               0.412105               Bullish   \n",
       "36312               0.117774               0.220103      Somewhat-Bullish   \n",
       "16048               0.145804               0.273788      Somewhat-Bullish   \n",
       "20315               0.211191               0.012276               Neutral   \n",
       "54412               0.127908              -0.094868               Neutral   \n",
       "\n",
       "                         topic  topicRelevanceScore  \n",
       "26031               Technology             0.250000  \n",
       "33977                      IPO             0.769861  \n",
       "49647            Manufacturing             0.333333  \n",
       "61521        Financial Markets             1.000000  \n",
       "36614            Manufacturing             0.250000  \n",
       "59548        Financial Markets             0.818451  \n",
       "36312  Energy & Transportation             0.200000  \n",
       "16048               Technology             0.250000  \n",
       "20315               Technology             0.500000  \n",
       "54412                  Finance             0.333333  "
      ]
     },
     "execution_count": 32,
     "metadata": {},
     "output_type": "execute_result"
    }
   ],
   "source": [
    "#Take a look at the data\n",
    "sentiment_data.sample(10)"
   ]
  },
  {
   "cell_type": "markdown",
   "metadata": {},
   "source": [
    "Sentiment Score definition:\n",
    "\n",
    "x <= -0.35          : Bearish\n",
    "\n",
    "-0.35 < x <= -0.15  : Somewhat-Bearish\n",
    "\n",
    "-0.15 < x < 0.15    : Neutral\n",
    "\n",
    "0.15 <= x < 0.35    : Somewhat_Bullish\n",
    "\n",
    "x >= 0.35           : Bullish'"
   ]
  },
  {
   "cell_type": "markdown",
   "metadata": {},
   "source": [
    "## Data cleaning"
   ]
  },
  {
   "cell_type": "markdown",
   "metadata": {},
   "source": [
    "### Dropping unnecessary columns\n",
    "Since we are only interested in 'overall_sentiment_label' and, 'companyName' columns we will get rid of the rest of the columns"
   ]
  },
  {
   "cell_type": "code",
   "execution_count": 5,
   "metadata": {},
   "outputs": [
    {
     "data": {
      "text/html": [
       "<div>\n",
       "<style scoped>\n",
       "    .dataframe tbody tr th:only-of-type {\n",
       "        vertical-align: middle;\n",
       "    }\n",
       "\n",
       "    .dataframe tbody tr th {\n",
       "        vertical-align: top;\n",
       "    }\n",
       "\n",
       "    .dataframe thead th {\n",
       "        text-align: right;\n",
       "    }\n",
       "</style>\n",
       "<table border=\"1\" class=\"dataframe\">\n",
       "  <thead>\n",
       "    <tr style=\"text-align: right;\">\n",
       "      <th></th>\n",
       "      <th>overall_sentiment_label</th>\n",
       "      <th>companyName</th>\n",
       "    </tr>\n",
       "  </thead>\n",
       "  <tbody>\n",
       "    <tr>\n",
       "      <th>427</th>\n",
       "      <td>Neutral</td>\n",
       "      <td>V</td>\n",
       "    </tr>\n",
       "    <tr>\n",
       "      <th>38806</th>\n",
       "      <td>Somewhat-Bullish</td>\n",
       "      <td>CSGP</td>\n",
       "    </tr>\n",
       "    <tr>\n",
       "      <th>25244</th>\n",
       "      <td>Neutral</td>\n",
       "      <td>MSFT</td>\n",
       "    </tr>\n",
       "    <tr>\n",
       "      <th>38900</th>\n",
       "      <td>Bullish</td>\n",
       "      <td>V</td>\n",
       "    </tr>\n",
       "    <tr>\n",
       "      <th>48480</th>\n",
       "      <td>Somewhat-Bullish</td>\n",
       "      <td>MSFT</td>\n",
       "    </tr>\n",
       "    <tr>\n",
       "      <th>26133</th>\n",
       "      <td>Neutral</td>\n",
       "      <td>NFLX</td>\n",
       "    </tr>\n",
       "    <tr>\n",
       "      <th>7100</th>\n",
       "      <td>Neutral</td>\n",
       "      <td>CSCO</td>\n",
       "    </tr>\n",
       "    <tr>\n",
       "      <th>12162</th>\n",
       "      <td>Somewhat-Bullish</td>\n",
       "      <td>MDNDF</td>\n",
       "    </tr>\n",
       "    <tr>\n",
       "      <th>16738</th>\n",
       "      <td>Somewhat-Bullish</td>\n",
       "      <td>NIO</td>\n",
       "    </tr>\n",
       "    <tr>\n",
       "      <th>23608</th>\n",
       "      <td>Somewhat-Bullish</td>\n",
       "      <td>KLAC</td>\n",
       "    </tr>\n",
       "  </tbody>\n",
       "</table>\n",
       "</div>"
      ],
      "text/plain": [
       "      overall_sentiment_label companyName\n",
       "427                   Neutral           V\n",
       "38806        Somewhat-Bullish        CSGP\n",
       "25244                 Neutral        MSFT\n",
       "38900                 Bullish           V\n",
       "48480        Somewhat-Bullish        MSFT\n",
       "26133                 Neutral        NFLX\n",
       "7100                  Neutral        CSCO\n",
       "12162        Somewhat-Bullish       MDNDF\n",
       "16738        Somewhat-Bullish         NIO\n",
       "23608        Somewhat-Bullish        KLAC"
      ]
     },
     "execution_count": 5,
     "metadata": {},
     "output_type": "execute_result"
    }
   ],
   "source": [
    "# Drop all columns except 'overall_sentiment_label' and 'companyName'\n",
    "sentimentdata_subset = sentiment_data[['overall_sentiment_label', 'companyName']]\n",
    "# Take a look at the new dataset\n",
    "sentimentdata_subset.sample(10)"
   ]
  },
  {
   "cell_type": "markdown",
   "metadata": {},
   "source": [
    "#### Check for null values"
   ]
  },
  {
   "cell_type": "code",
   "execution_count": null,
   "metadata": {},
   "outputs": [
    {
     "name": "stdout",
     "output_type": "stream",
     "text": [
      "The dataset does not have any null values.\n"
     ]
    }
   ],
   "source": [
    "has_nulls = sentimentdata_subset.isnull().any().any()\n",
    "\n",
    "if has_nulls:\n",
    "    print(\"The dataset contains null values.\")\n",
    "else:\n",
    "    print(\"The dataset does not have any null values.\")"
   ]
  },
  {
   "cell_type": "markdown",
   "metadata": {},
   "source": [
    "#### Check for NaN values"
   ]
  },
  {
   "cell_type": "code",
   "execution_count": null,
   "metadata": {},
   "outputs": [
    {
     "name": "stdout",
     "output_type": "stream",
     "text": [
      "Columns with NaN values: []\n",
      "The DataFrame does not have any NaN values.\n"
     ]
    }
   ],
   "source": [
    "# Check for NaN values in all columns\n",
    "has_nan_values = sentimentdata_subset.isna().any()\n",
    "\n",
    "# Print columns with NaN values\n",
    "columns_with_nan = has_nan_values[has_nan_values].index.tolist()\n",
    "print(\"Columns with NaN values:\", columns_with_nan)\n",
    "\n",
    "# Alternatively, you can check if any column has NaN values in the entire DataFrame\n",
    "if has_nan_values.any():\n",
    "    print(\"The DataFrame contains NaN values in at least one column.\")\n",
    "else:\n",
    "    print(\"The DataFrame does not have any NaN values.\")\n"
   ]
  },
  {
   "cell_type": "markdown",
   "metadata": {},
   "source": [
    "#### Standardizing Text Data"
   ]
  },
  {
   "cell_type": "code",
   "execution_count": 26,
   "metadata": {},
   "outputs": [
    {
     "data": {
      "text/html": [
       "<div>\n",
       "<style scoped>\n",
       "    .dataframe tbody tr th:only-of-type {\n",
       "        vertical-align: middle;\n",
       "    }\n",
       "\n",
       "    .dataframe tbody tr th {\n",
       "        vertical-align: top;\n",
       "    }\n",
       "\n",
       "    .dataframe thead th {\n",
       "        text-align: right;\n",
       "    }\n",
       "</style>\n",
       "<table border=\"1\" class=\"dataframe\">\n",
       "  <thead>\n",
       "    <tr style=\"text-align: right;\">\n",
       "      <th></th>\n",
       "      <th>overall_sentiment_label</th>\n",
       "      <th>companyName</th>\n",
       "    </tr>\n",
       "  </thead>\n",
       "  <tbody>\n",
       "    <tr>\n",
       "      <th>25467</th>\n",
       "      <td>SOMEWHAT-BULLISH</td>\n",
       "      <td>AAPL</td>\n",
       "    </tr>\n",
       "    <tr>\n",
       "      <th>16802</th>\n",
       "      <td>SOMEWHAT-BULLISH</td>\n",
       "      <td>AMZN</td>\n",
       "    </tr>\n",
       "    <tr>\n",
       "      <th>42764</th>\n",
       "      <td>SOMEWHAT-BULLISH</td>\n",
       "      <td>MSFT</td>\n",
       "    </tr>\n",
       "    <tr>\n",
       "      <th>28534</th>\n",
       "      <td>BULLISH</td>\n",
       "      <td>NVDA</td>\n",
       "    </tr>\n",
       "    <tr>\n",
       "      <th>45900</th>\n",
       "      <td>NEUTRAL</td>\n",
       "      <td>MSFT</td>\n",
       "    </tr>\n",
       "    <tr>\n",
       "      <th>25332</th>\n",
       "      <td>SOMEWHAT-BULLISH</td>\n",
       "      <td>MSFT</td>\n",
       "    </tr>\n",
       "    <tr>\n",
       "      <th>22404</th>\n",
       "      <td>SOMEWHAT-BULLISH</td>\n",
       "      <td>AMZN</td>\n",
       "    </tr>\n",
       "    <tr>\n",
       "      <th>11877</th>\n",
       "      <td>SOMEWHAT-BULLISH</td>\n",
       "      <td>AAPL</td>\n",
       "    </tr>\n",
       "    <tr>\n",
       "      <th>44643</th>\n",
       "      <td>BULLISH</td>\n",
       "      <td>MSFT</td>\n",
       "    </tr>\n",
       "    <tr>\n",
       "      <th>43127</th>\n",
       "      <td>NEUTRAL</td>\n",
       "      <td>MSFT</td>\n",
       "    </tr>\n",
       "  </tbody>\n",
       "</table>\n",
       "</div>"
      ],
      "text/plain": [
       "      overall_sentiment_label companyName\n",
       "25467        SOMEWHAT-BULLISH        AAPL\n",
       "16802        SOMEWHAT-BULLISH        AMZN\n",
       "42764        SOMEWHAT-BULLISH        MSFT\n",
       "28534                 BULLISH        NVDA\n",
       "45900                 NEUTRAL        MSFT\n",
       "25332        SOMEWHAT-BULLISH        MSFT\n",
       "22404        SOMEWHAT-BULLISH        AMZN\n",
       "11877        SOMEWHAT-BULLISH        AAPL\n",
       "44643                 BULLISH        MSFT\n",
       "43127                 NEUTRAL        MSFT"
      ]
     },
     "execution_count": 26,
     "metadata": {},
     "output_type": "execute_result"
    }
   ],
   "source": [
    "sentimentdata_subset.loc[:,'overall_sentiment_label'] = sentimentdata_subset['overall_sentiment_label'].str.upper()\n",
    "sentimentdata_subset.loc[:,'companyName'] = sentimentdata_subset['companyName'].str.upper()\n",
    "sentimentdata_subset.sample(10)\n"
   ]
  },
  {
   "cell_type": "markdown",
   "metadata": {},
   "source": [
    "#### Data integrity\n",
    "Check if all columns overall contain the categories of interest "
   ]
  },
  {
   "cell_type": "code",
   "execution_count": 27,
   "metadata": {},
   "outputs": [
    {
     "name": "stdout",
     "output_type": "stream",
     "text": [
      "['NEUTRAL' 'SOMEWHAT-BULLISH' 'BULLISH' 'SOMEWHAT-BEARISH' 'BEARISH'] ['MSFT' 'AMZN' 'NVDA' 'AAPL']\n"
     ]
    },
    {
     "data": {
      "text/plain": [
       "count     15982\n",
       "unique        4\n",
       "top        NVDA\n",
       "freq       4743\n",
       "Name: companyName, dtype: object"
      ]
     },
     "execution_count": 27,
     "metadata": {},
     "output_type": "execute_result"
    }
   ],
   "source": [
    "unique_sentimentlables = sentimentdata_subset['overall_sentiment_label'].unique()\n",
    "unique_companynames = sentimentdata_subset['companyName'].unique()\n",
    "print(unique_sentimentlables, unique_companynames)\n",
    "sentimentdata_subset['companyName'].describe()"
   ]
  },
  {
   "cell_type": "markdown",
   "metadata": {},
   "source": [
    "Filter the data based on companies of our interest: "
   ]
  },
  {
   "cell_type": "code",
   "execution_count": 28,
   "metadata": {},
   "outputs": [
    {
     "name": "stdout",
     "output_type": "stream",
     "text": [
      "count     15982\n",
      "unique        4\n",
      "top        NVDA\n",
      "freq       4743\n",
      "Name: companyName, dtype: object ['MSFT' 'AMZN' 'NVDA' 'AAPL']\n"
     ]
    }
   ],
   "source": [
    "interested_companies = ['AMZN', 'AAPL', 'MSFT', 'NVDA']\n",
    "sentimentdata_subset = sentimentdata_subset[sentimentdata_subset['companyName'].isin(interested_companies)]\n",
    "\n",
    "#show dataset summary\n",
    "print(sentimentdata_subset['companyName'].describe(), sentimentdata_subset['companyName'].unique())\n"
   ]
  },
  {
   "cell_type": "markdown",
   "metadata": {},
   "source": [
    "#### one-hot encoding"
   ]
  },
  {
   "cell_type": "code",
   "execution_count": 29,
   "metadata": {},
   "outputs": [
    {
     "data": {
      "text/html": [
       "<div>\n",
       "<style scoped>\n",
       "    .dataframe tbody tr th:only-of-type {\n",
       "        vertical-align: middle;\n",
       "    }\n",
       "\n",
       "    .dataframe tbody tr th {\n",
       "        vertical-align: top;\n",
       "    }\n",
       "\n",
       "    .dataframe thead th {\n",
       "        text-align: right;\n",
       "    }\n",
       "</style>\n",
       "<table border=\"1\" class=\"dataframe\">\n",
       "  <thead>\n",
       "    <tr style=\"text-align: right;\">\n",
       "      <th></th>\n",
       "      <th>NEUTRAL</th>\n",
       "      <th>SOMEWHAT-BULLISH</th>\n",
       "      <th>BULLISH</th>\n",
       "      <th>SOMEWHAT-BEARISH</th>\n",
       "      <th>BEARISH</th>\n",
       "    </tr>\n",
       "  </thead>\n",
       "  <tbody>\n",
       "    <tr>\n",
       "      <th>count</th>\n",
       "      <td>15982.000000</td>\n",
       "      <td>15982.000000</td>\n",
       "      <td>15982.000000</td>\n",
       "      <td>15982.000000</td>\n",
       "      <td>15982.000000</td>\n",
       "    </tr>\n",
       "    <tr>\n",
       "      <th>mean</th>\n",
       "      <td>0.362095</td>\n",
       "      <td>0.575522</td>\n",
       "      <td>0.057565</td>\n",
       "      <td>0.004442</td>\n",
       "      <td>0.000375</td>\n",
       "    </tr>\n",
       "    <tr>\n",
       "      <th>std</th>\n",
       "      <td>0.480621</td>\n",
       "      <td>0.494279</td>\n",
       "      <td>0.232926</td>\n",
       "      <td>0.066506</td>\n",
       "      <td>0.019373</td>\n",
       "    </tr>\n",
       "    <tr>\n",
       "      <th>min</th>\n",
       "      <td>0.000000</td>\n",
       "      <td>0.000000</td>\n",
       "      <td>0.000000</td>\n",
       "      <td>0.000000</td>\n",
       "      <td>0.000000</td>\n",
       "    </tr>\n",
       "    <tr>\n",
       "      <th>25%</th>\n",
       "      <td>0.000000</td>\n",
       "      <td>0.000000</td>\n",
       "      <td>0.000000</td>\n",
       "      <td>0.000000</td>\n",
       "      <td>0.000000</td>\n",
       "    </tr>\n",
       "    <tr>\n",
       "      <th>50%</th>\n",
       "      <td>0.000000</td>\n",
       "      <td>1.000000</td>\n",
       "      <td>0.000000</td>\n",
       "      <td>0.000000</td>\n",
       "      <td>0.000000</td>\n",
       "    </tr>\n",
       "    <tr>\n",
       "      <th>75%</th>\n",
       "      <td>1.000000</td>\n",
       "      <td>1.000000</td>\n",
       "      <td>0.000000</td>\n",
       "      <td>0.000000</td>\n",
       "      <td>0.000000</td>\n",
       "    </tr>\n",
       "    <tr>\n",
       "      <th>max</th>\n",
       "      <td>1.000000</td>\n",
       "      <td>1.000000</td>\n",
       "      <td>1.000000</td>\n",
       "      <td>1.000000</td>\n",
       "      <td>1.000000</td>\n",
       "    </tr>\n",
       "  </tbody>\n",
       "</table>\n",
       "</div>"
      ],
      "text/plain": [
       "            NEUTRAL  SOMEWHAT-BULLISH       BULLISH  SOMEWHAT-BEARISH  \\\n",
       "count  15982.000000      15982.000000  15982.000000      15982.000000   \n",
       "mean       0.362095          0.575522      0.057565          0.004442   \n",
       "std        0.480621          0.494279      0.232926          0.066506   \n",
       "min        0.000000          0.000000      0.000000          0.000000   \n",
       "25%        0.000000          0.000000      0.000000          0.000000   \n",
       "50%        0.000000          1.000000      0.000000          0.000000   \n",
       "75%        1.000000          1.000000      0.000000          0.000000   \n",
       "max        1.000000          1.000000      1.000000          1.000000   \n",
       "\n",
       "            BEARISH  \n",
       "count  15982.000000  \n",
       "mean       0.000375  \n",
       "std        0.019373  \n",
       "min        0.000000  \n",
       "25%        0.000000  \n",
       "50%        0.000000  \n",
       "75%        0.000000  \n",
       "max        1.000000  "
      ]
     },
     "execution_count": 29,
     "metadata": {},
     "output_type": "execute_result"
    }
   ],
   "source": [
    "# List of sentiment labels for one-hot encoding\n",
    "sentiment_labels = ['NEUTRAL', 'SOMEWHAT-BULLISH', 'BULLISH', 'SOMEWHAT-BEARISH', 'BEARISH']\n",
    "# Perform one-hot encoding for 'overall_sentiment_label' using the specified labels\n",
    "sentimentdata_encoded = pd.get_dummies(sentimentdata_subset, columns=['overall_sentiment_label'], prefix='', prefix_sep='').reindex(columns= sentiment_labels , fill_value=0)\n",
    "\n",
    "# Print the encoded DataFrame\n",
    "sentimentdata_encoded.describe()\n"
   ]
  },
  {
   "cell_type": "markdown",
   "metadata": {},
   "source": [
    "## Data Summary"
   ]
  },
  {
   "cell_type": "markdown",
   "metadata": {},
   "source": [
    "### Shape of the data"
   ]
  },
  {
   "cell_type": "code",
   "execution_count": 14,
   "metadata": {},
   "outputs": [
    {
     "name": "stdout",
     "output_type": "stream",
     "text": [
      "Number of Rows: 15982\n",
      "Number of Columns: 2\n"
     ]
    }
   ],
   "source": [
    "#Understanding the shape of the DataFrame\n",
    "print(\"Number of Rows:\", sentimentdata_subset.shape[0])\n",
    "print(\"Number of Columns:\", sentimentdata_subset.shape[1])"
   ]
  },
  {
   "cell_type": "markdown",
   "metadata": {},
   "source": [
    "### Data types of each column"
   ]
  },
  {
   "cell_type": "code",
   "execution_count": 16,
   "metadata": {},
   "outputs": [
    {
     "data": {
      "text/plain": [
       "overall_sentiment_label    object\n",
       "companyName                object\n",
       "dtype: object"
      ]
     },
     "execution_count": 16,
     "metadata": {},
     "output_type": "execute_result"
    }
   ],
   "source": [
    "sentimentdata_subset.dtypes"
   ]
  },
  {
   "cell_type": "markdown",
   "metadata": {},
   "source": [
    "### Summary Statistics"
   ]
  },
  {
   "cell_type": "code",
   "execution_count": 17,
   "metadata": {},
   "outputs": [
    {
     "data": {
      "text/plain": [
       "NVDA    4743\n",
       "MSFT    4230\n",
       "AMZN    3511\n",
       "AAPL    3498\n",
       "Name: companyName, dtype: int64"
      ]
     },
     "execution_count": 17,
     "metadata": {},
     "output_type": "execute_result"
    }
   ],
   "source": [
    "sentimentdata_subset['overall_sentiment_label'].value_counts()\n",
    "sentimentdata_subset['companyName'].value_counts()"
   ]
  },
  {
   "cell_type": "markdown",
   "metadata": {},
   "source": [
    "## Data visualization"
   ]
  },
  {
   "cell_type": "markdown",
   "metadata": {},
   "source": [
    "### Barplot"
   ]
  },
  {
   "cell_type": "code",
   "execution_count": 31,
   "metadata": {},
   "outputs": [
    {
     "data": {
      "text/plain": [
       "Text(0, 0.5, 'Count')"
      ]
     },
     "execution_count": 31,
     "metadata": {},
     "output_type": "execute_result"
    },
    {
     "data": {
      "image/png": "[encoded data removed]",
      "text/plain": [
       "<Figure size 1000x600 with 1 Axes>"
      ]
     },
     "metadata": {},
     "output_type": "display_data"
    },
    {
     "data": {
      "image/png": "[encoded data removed]",
      "text/plain": [
       "<Figure size 800x500 with 1 Axes>"
      ]
     },
     "metadata": {},
     "output_type": "display_data"
    }
   ],
   "source": [
    "# Bar plot for 'companyName'\n",
    "plt.figure(figsize=(10, 6))\n",
    "sentimentdata_subset['companyName'].value_counts().plot(kind='bar')\n",
    "plt.title('Company Name Distribution')\n",
    "plt.xlabel('Company Name')\n",
    "plt.ylabel('Count')\n",
    "plt.xticks(rotation=45)\n",
    "\n",
    "\n",
    "# Bar plot for 'overall_sentiment_label'\n",
    "plt.figure(figsize=(8, 5))\n",
    "sentimentdata_subset['overall_sentiment_label'].value_counts().plot(kind='bar')\n",
    "plt.title('Sentiment Label Distribution')\n",
    "plt.xlabel('Sentiment Label')\n",
    "plt.ylabel('Count')\n",
    "\n"
   ]
  },
  {
   "cell_type": "markdown",
   "metadata": {},
   "source": [
    "### Pie Chart"
   ]
  },
  {
   "cell_type": "code",
   "execution_count": 33,
   "metadata": {},
   "outputs": [
    {
     "data": {
      "text/plain": [
       "Text(0, 0.5, '')"
      ]
     },
     "execution_count": 33,
     "metadata": {},
     "output_type": "execute_result"
    },
    {
     "data": {
      "image/png": "[encoded data removed]",
      "text/plain": [
       "<Figure size 800x800 with 1 Axes>"
      ]
     },
     "metadata": {},
     "output_type": "display_data"
    },
    {
     "data": {
      "image/png": "[encoded data removed]",
      "text/plain": [
       "<Figure size 800x800 with 1 Axes>"
      ]
     },
     "metadata": {},
     "output_type": "display_data"
    }
   ],
   "source": [
    "# Pie chart for 'companyName'\n",
    "plt.figure(figsize=(8, 8))\n",
    "sentimentdata_subset['companyName'].value_counts().plot(kind='pie', autopct='%1.1f%%')\n",
    "plt.title('Company Name Distribution')\n",
    "plt.ylabel('')\n",
    "\n",
    "\n",
    "# Pie chart for 'overall_sentiment_label'\n",
    "plt.figure(figsize=(8, 8))\n",
    "sentimentdata_subset['overall_sentiment_label'].value_counts().plot(kind='pie', autopct='%1.1f%%')\n",
    "plt.title('Sentiment Label Distribution')\n",
    "plt.ylabel('')\n",
    "\n"
   ]
  },
  {
   "cell_type": "markdown",
   "metadata": {},
   "source": [
    "### Heatmap"
   ]
  },
  {
   "cell_type": "code",
   "execution_count": 34,
   "metadata": {},
   "outputs": [
    {
     "data": {
      "text/plain": [
       "Text(120.72222222222221, 0.5, 'Company Name')"
      ]
     },
     "execution_count": 34,
     "metadata": {},
     "output_type": "execute_result"
    },
    {
     "data": {
      "image/png": "[encoded data removed]",
      "text/plain": [
       "<Figure size 1200x800 with 2 Axes>"
      ]
     },
     "metadata": {},
     "output_type": "display_data"
    }
   ],
   "source": [
    "# Create a contingency table for 'companyName' vs 'overall_sentiment_label'\n",
    "contingency_table = pd.crosstab(sentimentdata_subset['companyName'], sentimentdata_subset['overall_sentiment_label'])\n",
    "\n",
    "# Heatmap\n",
    "plt.figure(figsize=(12, 8))\n",
    "sns.heatmap(contingency_table, annot=True, fmt='d', cmap='YlGnBu')\n",
    "plt.title('Company Name vs Sentiment Label')\n",
    "plt.xlabel('Sentiment Label')\n",
    "plt.ylabel('Company Name')\n",
    "\n"
   ]
  },
  {
   "cell_type": "markdown",
   "metadata": {},
   "source": [
    "# EDA for Dailyprice data of IPOs"
   ]
  },
  {
   "cell_type": "markdown",
   "metadata": {},
   "source": [
    "## Load the dataset"
   ]
  },
  {
   "cell_type": "code",
   "execution_count": 87,
   "metadata": {},
   "outputs": [],
   "source": [
    "filepath = '../Datasets/DailyPricesTechCompanies.csv'\n",
    "dailyprice = pd.read_csv(filepath)"
   ]
  },
  {
   "cell_type": "code",
   "execution_count": 88,
   "metadata": {},
   "outputs": [
    {
     "data": {
      "text/html": [
       "<div>\n",
       "<style scoped>\n",
       "    .dataframe tbody tr th:only-of-type {\n",
       "        vertical-align: middle;\n",
       "    }\n",
       "\n",
       "    .dataframe tbody tr th {\n",
       "        vertical-align: top;\n",
       "    }\n",
       "\n",
       "    .dataframe thead th {\n",
       "        text-align: right;\n",
       "    }\n",
       "</style>\n",
       "<table border=\"1\" class=\"dataframe\">\n",
       "  <thead>\n",
       "    <tr style=\"text-align: right;\">\n",
       "      <th></th>\n",
       "      <th>date</th>\n",
       "      <th>1. open</th>\n",
       "      <th>2. high</th>\n",
       "      <th>3. low</th>\n",
       "      <th>4. close</th>\n",
       "      <th>5. volume</th>\n",
       "      <th>TickerName</th>\n",
       "    </tr>\n",
       "  </thead>\n",
       "  <tbody>\n",
       "    <tr>\n",
       "      <th>22543</th>\n",
       "      <td>2001-04-27</td>\n",
       "      <td>69.53</td>\n",
       "      <td>69.68</td>\n",
       "      <td>66.21</td>\n",
       "      <td>67.12</td>\n",
       "      <td>60786200</td>\n",
       "      <td>MSFT</td>\n",
       "    </tr>\n",
       "    <tr>\n",
       "      <th>19322</th>\n",
       "      <td>2014-02-19</td>\n",
       "      <td>37.22</td>\n",
       "      <td>37.75</td>\n",
       "      <td>37.21</td>\n",
       "      <td>37.51</td>\n",
       "      <td>29750400</td>\n",
       "      <td>MSFT</td>\n",
       "    </tr>\n",
       "    <tr>\n",
       "      <th>23765</th>\n",
       "      <td>2020-06-10</td>\n",
       "      <td>366.71</td>\n",
       "      <td>380.00</td>\n",
       "      <td>366.14</td>\n",
       "      <td>374.67</td>\n",
       "      <td>15804537</td>\n",
       "      <td>NVDA</td>\n",
       "    </tr>\n",
       "    <tr>\n",
       "      <th>2028</th>\n",
       "      <td>2015-09-29</td>\n",
       "      <td>506.00</td>\n",
       "      <td>511.48</td>\n",
       "      <td>490.50</td>\n",
       "      <td>496.07</td>\n",
       "      <td>4457532</td>\n",
       "      <td>AMZN</td>\n",
       "    </tr>\n",
       "    <tr>\n",
       "      <th>3368</th>\n",
       "      <td>2010-06-03</td>\n",
       "      <td>126.25</td>\n",
       "      <td>129.15</td>\n",
       "      <td>124.85</td>\n",
       "      <td>128.76</td>\n",
       "      <td>5276900</td>\n",
       "      <td>AMZN</td>\n",
       "    </tr>\n",
       "    <tr>\n",
       "      <th>7909</th>\n",
       "      <td>2016-05-04</td>\n",
       "      <td>706.77</td>\n",
       "      <td>715.05</td>\n",
       "      <td>704.05</td>\n",
       "      <td>711.37</td>\n",
       "      <td>1708609</td>\n",
       "      <td>GOOGL</td>\n",
       "    </tr>\n",
       "    <tr>\n",
       "      <th>9860</th>\n",
       "      <td>2008-08-04</td>\n",
       "      <td>468.80</td>\n",
       "      <td>473.01</td>\n",
       "      <td>461.90</td>\n",
       "      <td>463.00</td>\n",
       "      <td>4969000</td>\n",
       "      <td>GOOGL</td>\n",
       "    </tr>\n",
       "    <tr>\n",
       "      <th>9740</th>\n",
       "      <td>2009-01-26</td>\n",
       "      <td>324.85</td>\n",
       "      <td>328.00</td>\n",
       "      <td>320.56</td>\n",
       "      <td>323.87</td>\n",
       "      <td>9212100</td>\n",
       "      <td>GOOGL</td>\n",
       "    </tr>\n",
       "    <tr>\n",
       "      <th>20816</th>\n",
       "      <td>2008-03-13</td>\n",
       "      <td>28.54</td>\n",
       "      <td>28.99</td>\n",
       "      <td>28.16</td>\n",
       "      <td>28.62</td>\n",
       "      <td>84552200</td>\n",
       "      <td>MSFT</td>\n",
       "    </tr>\n",
       "    <tr>\n",
       "      <th>19392</th>\n",
       "      <td>2013-11-06</td>\n",
       "      <td>37.24</td>\n",
       "      <td>38.22</td>\n",
       "      <td>37.06</td>\n",
       "      <td>38.18</td>\n",
       "      <td>88948800</td>\n",
       "      <td>MSFT</td>\n",
       "    </tr>\n",
       "  </tbody>\n",
       "</table>\n",
       "</div>"
      ],
      "text/plain": [
       "             date  1. open  2. high  3. low  4. close  5. volume TickerName\n",
       "22543  2001-04-27    69.53    69.68   66.21     67.12   60786200       MSFT\n",
       "19322  2014-02-19    37.22    37.75   37.21     37.51   29750400       MSFT\n",
       "23765  2020-06-10   366.71   380.00  366.14    374.67   15804537       NVDA\n",
       "2028   2015-09-29   506.00   511.48  490.50    496.07    4457532       AMZN\n",
       "3368   2010-06-03   126.25   129.15  124.85    128.76    5276900       AMZN\n",
       "7909   2016-05-04   706.77   715.05  704.05    711.37    1708609      GOOGL\n",
       "9860   2008-08-04   468.80   473.01  461.90    463.00    4969000      GOOGL\n",
       "9740   2009-01-26   324.85   328.00  320.56    323.87    9212100      GOOGL\n",
       "20816  2008-03-13    28.54    28.99   28.16     28.62   84552200       MSFT\n",
       "19392  2013-11-06    37.24    38.22   37.06     38.18   88948800       MSFT"
      ]
     },
     "execution_count": 88,
     "metadata": {},
     "output_type": "execute_result"
    }
   ],
   "source": [
    "#Take a look at the data\n",
    "dailyprice.sample(10)"
   ]
  },
  {
   "cell_type": "markdown",
   "metadata": {},
   "source": [
    "## Data cleaning"
   ]
  },
  {
   "cell_type": "markdown",
   "metadata": {},
   "source": [
    "### Rename columns"
   ]
  },
  {
   "cell_type": "code",
   "execution_count": 89,
   "metadata": {},
   "outputs": [],
   "source": [
    "dailyprice.rename(columns={\n",
    "    '1. open': 'Open',\n",
    "    '2. high': 'High',\n",
    "    '3. low': 'Low',\n",
    "    '4. close': 'Close',\n",
    "    '5. volume': 'Volume',\n",
    "    'date': 'Date'\n",
    "}, inplace=True)\n"
   ]
  },
  {
   "cell_type": "markdown",
   "metadata": {},
   "source": [
    "### Data type conversion"
   ]
  },
  {
   "cell_type": "code",
   "execution_count": 90,
   "metadata": {},
   "outputs": [],
   "source": [
    "# Convert 'date' column to datetime\n",
    "dailyprice['Date'] = pd.to_datetime(dailyprice['Date'])"
   ]
  },
  {
   "cell_type": "code",
   "execution_count": 91,
   "metadata": {},
   "outputs": [],
   "source": [
    "# Convert numerical columns to numeric types\n",
    "numeric_cols = ['Open', 'High', 'Low', 'Close','Volume']\n",
    "dailyprice[numeric_cols] = dailyprice[numeric_cols].apply(pd.to_numeric)\n",
    "\n",
    "#use the code bellow if you get an error in the preceding cell\n",
    "#apple_stock = apple_stock.drop(columns=['level_0', 'index'])    "
   ]
  },
  {
   "cell_type": "markdown",
   "metadata": {},
   "source": [
    "#### Check for null values"
   ]
  },
  {
   "cell_type": "code",
   "execution_count": 92,
   "metadata": {},
   "outputs": [
    {
     "name": "stdout",
     "output_type": "stream",
     "text": [
      "The dataset does not have any null values.\n"
     ]
    }
   ],
   "source": [
    "has_nulls = dailyprice.isnull().any().any()\n",
    "\n",
    "if has_nulls:\n",
    "    print(\"The dataset contains null values.\")\n",
    "else:\n",
    "    print(\"The dataset does not have any null values.\")"
   ]
  },
  {
   "cell_type": "code",
   "execution_count": 93,
   "metadata": {},
   "outputs": [],
   "source": [
    "# Convert numerical columns to numeric types\n",
    "numeric_cols = ['Open', 'High', 'Low', 'Close','Volume']\n",
    "dailyprice[numeric_cols] = dailyprice[numeric_cols].apply(pd.to_numeric)\n",
    "\n",
    "#use the code bellow if you get an error in the preceding cell\n",
    "#apple_stock = apple_stock.drop(columns=['level_0', 'index'])  \n",
    " "
   ]
  },
  {
   "cell_type": "markdown",
   "metadata": {},
   "source": [
    "### Dropping unnecessary columns\n",
    "Since we are only interested in closing_price, volume and tickername columns, we will get rid of the rest of the columns."
   ]
  },
  {
   "cell_type": "code",
   "execution_count": 94,
   "metadata": {},
   "outputs": [
    {
     "data": {
      "text/html": [
       "<div>\n",
       "<style scoped>\n",
       "    .dataframe tbody tr th:only-of-type {\n",
       "        vertical-align: middle;\n",
       "    }\n",
       "\n",
       "    .dataframe tbody tr th {\n",
       "        vertical-align: top;\n",
       "    }\n",
       "\n",
       "    .dataframe thead th {\n",
       "        text-align: right;\n",
       "    }\n",
       "</style>\n",
       "<table border=\"1\" class=\"dataframe\">\n",
       "  <thead>\n",
       "    <tr style=\"text-align: right;\">\n",
       "      <th></th>\n",
       "      <th>Close</th>\n",
       "      <th>Volume</th>\n",
       "      <th>TickerName</th>\n",
       "    </tr>\n",
       "  </thead>\n",
       "  <tbody>\n",
       "    <tr>\n",
       "      <th>17880</th>\n",
       "      <td>145.960</td>\n",
       "      <td>16752939</td>\n",
       "      <td>MSFT</td>\n",
       "    </tr>\n",
       "    <tr>\n",
       "      <th>23018</th>\n",
       "      <td>401.110</td>\n",
       "      <td>92340110</td>\n",
       "      <td>NVDA</td>\n",
       "    </tr>\n",
       "    <tr>\n",
       "      <th>14414</th>\n",
       "      <td>165.298</td>\n",
       "      <td>16751000</td>\n",
       "      <td>AAPL</td>\n",
       "    </tr>\n",
       "    <tr>\n",
       "      <th>10359</th>\n",
       "      <td>376.940</td>\n",
       "      <td>8613300</td>\n",
       "      <td>GOOGL</td>\n",
       "    </tr>\n",
       "    <tr>\n",
       "      <th>8532</th>\n",
       "      <td>1010.590</td>\n",
       "      <td>2222900</td>\n",
       "      <td>GOOGL</td>\n",
       "    </tr>\n",
       "    <tr>\n",
       "      <th>26277</th>\n",
       "      <td>12.220</td>\n",
       "      <td>21476700</td>\n",
       "      <td>NVDA</td>\n",
       "    </tr>\n",
       "    <tr>\n",
       "      <th>13857</th>\n",
       "      <td>388.830</td>\n",
       "      <td>15386100</td>\n",
       "      <td>AAPL</td>\n",
       "    </tr>\n",
       "    <tr>\n",
       "      <th>8989</th>\n",
       "      <td>632.910</td>\n",
       "      <td>5517800</td>\n",
       "      <td>GOOGL</td>\n",
       "    </tr>\n",
       "    <tr>\n",
       "      <th>13137</th>\n",
       "      <td>100.110</td>\n",
       "      <td>49766312</td>\n",
       "      <td>AAPL</td>\n",
       "    </tr>\n",
       "    <tr>\n",
       "      <th>1826</th>\n",
       "      <td>739.950</td>\n",
       "      <td>2216820</td>\n",
       "      <td>AMZN</td>\n",
       "    </tr>\n",
       "  </tbody>\n",
       "</table>\n",
       "</div>"
      ],
      "text/plain": [
       "          Close    Volume TickerName\n",
       "17880   145.960  16752939       MSFT\n",
       "23018   401.110  92340110       NVDA\n",
       "14414   165.298  16751000       AAPL\n",
       "10359   376.940   8613300      GOOGL\n",
       "8532   1010.590   2222900      GOOGL\n",
       "26277    12.220  21476700       NVDA\n",
       "13857   388.830  15386100       AAPL\n",
       "8989    632.910   5517800      GOOGL\n",
       "13137   100.110  49766312       AAPL\n",
       "1826    739.950   2216820       AMZN"
      ]
     },
     "execution_count": 94,
     "metadata": {},
     "output_type": "execute_result"
    }
   ],
   "source": [
    "# Drop all columns except 'overall_sentiment_label' and 'companyName'\n",
    "dailyprice = dailyprice[['Close', 'Volume','TickerName']]\n",
    "# Take a look at the new dataset\n",
    "dailyprice.sample(10)"
   ]
  },
  {
   "cell_type": "markdown",
   "metadata": {},
   "source": [
    "#### Check for NaN values"
   ]
  },
  {
   "cell_type": "code",
   "execution_count": 95,
   "metadata": {},
   "outputs": [
    {
     "name": "stdout",
     "output_type": "stream",
     "text": [
      "Columns with NaN values: []\n",
      "The DataFrame does not have any NaN values.\n"
     ]
    }
   ],
   "source": [
    "# Check for NaN values in all columns\n",
    "has_nan_values = dailyprice.isna().any()\n",
    "\n",
    "# Print columns with NaN values\n",
    "columns_with_nan = has_nan_values[has_nan_values].index.tolist()\n",
    "print(\"Columns with NaN values:\", columns_with_nan)\n",
    "\n",
    "# Alternatively, you can check if any column has NaN values in the entire DataFrame\n",
    "if has_nan_values.any():\n",
    "    print(\"The DataFrame contains NaN values in at least one column.\")\n",
    "else:\n",
    "    print(\"The DataFrame does not have any NaN values.\")\n"
   ]
  },
  {
   "cell_type": "markdown",
   "metadata": {},
   "source": [
    "## Data Summary"
   ]
  },
  {
   "cell_type": "markdown",
   "metadata": {},
   "source": [
    "### Shape of the data"
   ]
  },
  {
   "cell_type": "code",
   "execution_count": 96,
   "metadata": {},
   "outputs": [
    {
     "name": "stdout",
     "output_type": "stream",
     "text": [
      "Number of Rows: 28950\n",
      "Number of Columns: 3\n"
     ]
    }
   ],
   "source": [
    "#Understanding the shape of the DataFrame\n",
    "print(\"Number of Rows:\", dailyprice.shape[0])\n",
    "print(\"Number of Columns:\", dailyprice.shape[1])"
   ]
  },
  {
   "cell_type": "markdown",
   "metadata": {},
   "source": [
    "### Data types of each column"
   ]
  },
  {
   "cell_type": "code",
   "execution_count": 97,
   "metadata": {},
   "outputs": [
    {
     "data": {
      "text/plain": [
       "Close         float64\n",
       "Volume          int64\n",
       "TickerName     object\n",
       "dtype: object"
      ]
     },
     "execution_count": 97,
     "metadata": {},
     "output_type": "execute_result"
    }
   ],
   "source": [
    "dailyprice.dtypes"
   ]
  },
  {
   "cell_type": "markdown",
   "metadata": {},
   "source": [
    "### Summary Statistics"
   ]
  },
  {
   "cell_type": "code",
   "execution_count": 98,
   "metadata": {},
   "outputs": [
    {
     "data": {
      "text/html": [
       "<div>\n",
       "<style scoped>\n",
       "    .dataframe tbody tr th:only-of-type {\n",
       "        vertical-align: middle;\n",
       "    }\n",
       "\n",
       "    .dataframe tbody tr th {\n",
       "        vertical-align: top;\n",
       "    }\n",
       "\n",
       "    .dataframe thead th {\n",
       "        text-align: right;\n",
       "    }\n",
       "</style>\n",
       "<table border=\"1\" class=\"dataframe\">\n",
       "  <thead>\n",
       "    <tr style=\"text-align: right;\">\n",
       "      <th></th>\n",
       "      <th>Close</th>\n",
       "      <th>Volume</th>\n",
       "    </tr>\n",
       "  </thead>\n",
       "  <tbody>\n",
       "    <tr>\n",
       "      <th>count</th>\n",
       "      <td>28950.000000</td>\n",
       "      <td>2.895000e+04</td>\n",
       "    </tr>\n",
       "    <tr>\n",
       "      <th>mean</th>\n",
       "      <td>336.508259</td>\n",
       "      <td>2.272443e+07</td>\n",
       "    </tr>\n",
       "    <tr>\n",
       "      <th>std</th>\n",
       "      <td>585.638687</td>\n",
       "      <td>2.597560e+07</td>\n",
       "    </tr>\n",
       "    <tr>\n",
       "      <th>min</th>\n",
       "      <td>5.900000</td>\n",
       "      <td>3.845900e+04</td>\n",
       "    </tr>\n",
       "    <tr>\n",
       "      <th>25%</th>\n",
       "      <td>32.018750</td>\n",
       "      <td>5.083751e+06</td>\n",
       "    </tr>\n",
       "    <tr>\n",
       "      <th>50%</th>\n",
       "      <td>113.010000</td>\n",
       "      <td>1.239845e+07</td>\n",
       "    </tr>\n",
       "    <tr>\n",
       "      <th>75%</th>\n",
       "      <td>352.057500</td>\n",
       "      <td>3.192339e+07</td>\n",
       "    </tr>\n",
       "    <tr>\n",
       "      <th>max</th>\n",
       "      <td>3731.410000</td>\n",
       "      <td>5.910522e+08</td>\n",
       "    </tr>\n",
       "  </tbody>\n",
       "</table>\n",
       "</div>"
      ],
      "text/plain": [
       "              Close        Volume\n",
       "count  28950.000000  2.895000e+04\n",
       "mean     336.508259  2.272443e+07\n",
       "std      585.638687  2.597560e+07\n",
       "min        5.900000  3.845900e+04\n",
       "25%       32.018750  5.083751e+06\n",
       "50%      113.010000  1.239845e+07\n",
       "75%      352.057500  3.192339e+07\n",
       "max     3731.410000  5.910522e+08"
      ]
     },
     "execution_count": 98,
     "metadata": {},
     "output_type": "execute_result"
    }
   ],
   "source": [
    "dailyprice.describe()"
   ]
  },
  {
   "cell_type": "code",
   "execution_count": 99,
   "metadata": {},
   "outputs": [
    {
     "data": {
      "text/plain": [
       "AMZN     6031\n",
       "AAPL     6031\n",
       "MSFT     6031\n",
       "NVDA     6031\n",
       "GOOGL    4826\n",
       "Name: TickerName, dtype: int64"
      ]
     },
     "execution_count": 99,
     "metadata": {},
     "output_type": "execute_result"
    }
   ],
   "source": [
    "dailyprice['TickerName'].value_counts()"
   ]
  },
  {
   "cell_type": "markdown",
   "metadata": {},
   "source": [
    "## Data visualization"
   ]
  },
  {
   "cell_type": "markdown",
   "metadata": {},
   "source": [
    "### Histograms"
   ]
  },
  {
   "cell_type": "code",
   "execution_count": 100,
   "metadata": {},
   "outputs": [
    {
     "data": {
      "text/plain": [
       "Text(0, 0.5, 'Frequency')"
      ]
     },
     "execution_count": 100,
     "metadata": {},
     "output_type": "execute_result"
    },
    {
     "data": {
      "image/png": "[encoded data removed]",
      "text/plain": [
       "<Figure size 640x480 with 1 Axes>"
      ]
     },
     "metadata": {},
     "output_type": "display_data"
    }
   ],
   "source": [
    "dailyprice['Close'].plot(kind='hist', bins=20)\n",
    "plt.xlabel('Closing_price')\n",
    "plt.ylabel('Frequency')"
   ]
  },
  {
   "cell_type": "markdown",
   "metadata": {},
   "source": [
    "### Correlation Matrix"
   ]
  },
  {
   "cell_type": "code",
   "execution_count": 102,
   "metadata": {},
   "outputs": [
    {
     "data": {
      "text/html": [
       "<div>\n",
       "<style scoped>\n",
       "    .dataframe tbody tr th:only-of-type {\n",
       "        vertical-align: middle;\n",
       "    }\n",
       "\n",
       "    .dataframe tbody tr th {\n",
       "        vertical-align: top;\n",
       "    }\n",
       "\n",
       "    .dataframe thead th {\n",
       "        text-align: right;\n",
       "    }\n",
       "</style>\n",
       "<table border=\"1\" class=\"dataframe\">\n",
       "  <thead>\n",
       "    <tr style=\"text-align: right;\">\n",
       "      <th></th>\n",
       "      <th>Close</th>\n",
       "      <th>Volume</th>\n",
       "    </tr>\n",
       "  </thead>\n",
       "  <tbody>\n",
       "    <tr>\n",
       "      <th>Close</th>\n",
       "      <td>1.000000</td>\n",
       "      <td>-0.283795</td>\n",
       "    </tr>\n",
       "    <tr>\n",
       "      <th>Volume</th>\n",
       "      <td>-0.283795</td>\n",
       "      <td>1.000000</td>\n",
       "    </tr>\n",
       "  </tbody>\n",
       "</table>\n",
       "</div>"
      ],
      "text/plain": [
       "           Close    Volume\n",
       "Close   1.000000 -0.283795\n",
       "Volume -0.283795  1.000000"
      ]
     },
     "execution_count": 102,
     "metadata": {},
     "output_type": "execute_result"
    }
   ],
   "source": [
    "correlation_matrix = dailyprice.corr()\n",
    "correlation_matrix\n"
   ]
  },
  {
   "cell_type": "markdown",
   "metadata": {},
   "source": [
    "### Box Plots\n",
    "Detect outliers in numerical columns."
   ]
  },
  {
   "cell_type": "code",
   "execution_count": 104,
   "metadata": {},
   "outputs": [
    {
     "data": {
      "text/plain": [
       "Text(0, 0.5, 'Numerical Columns')"
      ]
     },
     "execution_count": 104,
     "metadata": {},
     "output_type": "execute_result"
    },
    {
     "data": {
      "image/png": "[encoded data removed]",
      "text/plain": [
       "<Figure size 640x480 with 1 Axes>"
      ]
     },
     "metadata": {},
     "output_type": "display_data"
    }
   ],
   "source": [
    "# closing price\n",
    "plt.boxplot(dailyprice['Close'])\n",
    "plt.ylabel('Closing price count')\n"
   ]
  },
  {
   "cell_type": "code",
   "execution_count": 105,
   "metadata": {},
   "outputs": [
    {
     "data": {
      "text/plain": [
       "Text(0, 0.5, 'Volume count')"
      ]
     },
     "execution_count": 105,
     "metadata": {},
     "output_type": "execute_result"
    },
    {
     "data": {
      "image/png": "[encoded data removed]",
      "text/plain": [
       "<Figure size 640x480 with 1 Axes>"
      ]
     },
     "metadata": {},
     "output_type": "display_data"
    }
   ],
   "source": [
    "# closing price\n",
    "plt.boxplot(dailyprice['Volume'])\n",
    "plt.ylabel('Volume count')"
   ]
  },
  {
   "cell_type": "markdown",
   "metadata": {},
   "source": [
    "### pairplot"
   ]
  },
  {
   "cell_type": "code",
   "execution_count": 101,
   "metadata": {},
   "outputs": [
    {
     "name": "stderr",
     "output_type": "stream",
     "text": [
      "c:\\Users\\babyl\\anaconda3\\lib\\site-packages\\seaborn\\axisgrid.py:118: UserWarning: The figure layout has changed to tight\n",
      "  self._figure.tight_layout(*args, **kwargs)\n"
     ]
    },
    {
     "data": {
      "text/plain": [
       "<seaborn.axisgrid.PairGrid at 0x1b8c1bef310>"
      ]
     },
     "execution_count": 101,
     "metadata": {},
     "output_type": "execute_result"
    },
    {
     "data": {
      "image/png": "[encoded data removed]",
      "text/plain": [
       "<Figure size 601x500 with 6 Axes>"
      ]
     },
     "metadata": {},
     "output_type": "display_data"
    }
   ],
   "source": [
    "sns.pairplot(dailyprice, hue='TickerName', height=2.5)"
   ]
  },
  {
   "cell_type": "markdown",
   "metadata": {},
   "source": [
    "### Normalization"
   ]
  },
  {
   "cell_type": "code",
   "execution_count": 80,
   "metadata": {},
   "outputs": [],
   "source": [
    "# # Create a MinMaxScaler object\n",
    "scaler = MinMaxScaler()\n",
    "\n",
    "# # Normalize the 'Close' and 'Volume' columns\n",
    "dailyprice[['Close', 'Volume']] =  scaler.fit_transform(dailyprice[['Close', 'Volume']])\n",
    "dailyprice"
   ]
  }
 ],
 "metadata": {
  "kernelspec": {
   "display_name": "base",
   "language": "python",
   "name": "python3"
  },
  "language_info": {
   "codemirror_mode": {
    "name": "ipython",
    "version": 3
   },
   "file_extension": ".py",
   "mimetype": "text/x-python",
   "name": "python",
   "nbconvert_exporter": "python",
   "pygments_lexer": "ipython3",
   "version": "3.9.13"
  }
 },
 "nbformat": 4,
 "nbformat_minor": 2
}
